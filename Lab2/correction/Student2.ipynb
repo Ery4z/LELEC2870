{
 "cells": [
  {
   "cell_type": "markdown",
   "metadata": {},
   "source": [
    "# [LELEC2870] - Machine Learning\n",
    "\n",
    "## Practical Session 2 - Feature Selection\n",
    "\n",
    "Prof. M. Verleysen<br>\n",
    "Prof. J. Lee<br>\n",
    "\n",
    "**Teaching assistants :**  \n",
    "Edouard Couplet : edouard.couplet@uclouvain.be  <br>\n",
    "Cyril De Bodt: cyril.debodt@uclouvain.be<br>\n",
    "Dany Rimez: dany.rimez@uclouvain.be<br>\n",
    "Niels Sayez : niels.sayez@uclouvain.be <br> \n",
    "Antoine Vanderschueren : antoine.vanderschueren@uclouvain.be<br>"
   ]
  },
  {
   "cell_type": "markdown",
   "metadata": {},
   "source": [
    "Last session, you implemented linear regression between the target values and a few features of a dataset.\n",
    "\n",
    "This second session will focus on the behaviour one should adopt when confronted with a new dataset with a larger number of features. Indeed, preprocessing must be applied to the data received to ensure that machine learning models can be trained on this data with the available computational resources and that these models produce the best performance.\n",
    "\n",
    "You will first make sure that the data can be ingested by a linear regressor and the apply several feature selection methods you learned about during the lectures in order to train better and better models.\n",
    "\n",
    "We provide you a dataset for the topic covered in this session. This dataset can be found on the Moodle page of this course.\n",
    "\n",
    "<div class=\"alert alert-success\">\n",
    "    \n",
    "* **Load** the dataset from disk.\n",
    "\n",
    "</div>"
   ]
  },
  {
   "cell_type": "code",
   "execution_count": 38,
   "metadata": {},
   "outputs": [
    {
     "name": "stdout",
     "output_type": "stream",
     "text": [
      "Requirement already satisfied: pandas in /opt/homebrew/Caskroom/miniforge/base/lib/python3.9/site-packages (1.5.1)\n",
      "Requirement already satisfied: matplotlib in /opt/homebrew/Caskroom/miniforge/base/lib/python3.9/site-packages (3.6.2)\n",
      "Requirement already satisfied: numpy in /opt/homebrew/Caskroom/miniforge/base/lib/python3.9/site-packages (1.23.4)\n",
      "Requirement already satisfied: seaborn in /opt/homebrew/Caskroom/miniforge/base/lib/python3.9/site-packages (0.12.1)\n",
      "Requirement already satisfied: sklearn in /opt/homebrew/Caskroom/miniforge/base/lib/python3.9/site-packages (0.0.post1)\n",
      "Requirement already satisfied: python-dateutil>=2.8.1 in /opt/homebrew/Caskroom/miniforge/base/lib/python3.9/site-packages (from pandas) (2.8.2)\n",
      "Requirement already satisfied: pytz>=2020.1 in /opt/homebrew/Caskroom/miniforge/base/lib/python3.9/site-packages (from pandas) (2022.6)\n",
      "Requirement already satisfied: cycler>=0.10 in /opt/homebrew/Caskroom/miniforge/base/lib/python3.9/site-packages (from matplotlib) (0.11.0)\n",
      "Requirement already satisfied: kiwisolver>=1.0.1 in /opt/homebrew/Caskroom/miniforge/base/lib/python3.9/site-packages (from matplotlib) (1.4.4)\n",
      "Requirement already satisfied: packaging>=20.0 in /opt/homebrew/Caskroom/miniforge/base/lib/python3.9/site-packages (from matplotlib) (21.3)\n",
      "Requirement already satisfied: contourpy>=1.0.1 in /opt/homebrew/Caskroom/miniforge/base/lib/python3.9/site-packages (from matplotlib) (1.0.6)\n",
      "Requirement already satisfied: pyparsing>=2.2.1 in /opt/homebrew/Caskroom/miniforge/base/lib/python3.9/site-packages (from matplotlib) (3.0.9)\n",
      "Requirement already satisfied: pillow>=6.2.0 in /opt/homebrew/Caskroom/miniforge/base/lib/python3.9/site-packages (from matplotlib) (9.3.0)\n",
      "Requirement already satisfied: fonttools>=4.22.0 in /opt/homebrew/Caskroom/miniforge/base/lib/python3.9/site-packages (from matplotlib) (4.38.0)\n",
      "Requirement already satisfied: six>=1.5 in /opt/homebrew/Caskroom/miniforge/base/lib/python3.9/site-packages (from python-dateutil>=2.8.1->pandas) (1.16.0)\n",
      "Note: you may need to restart the kernel to use updated packages.\n"
     ]
    }
   ],
   "source": [
    "%pip install pandas matplotlib numpy seaborn sklearn"
   ]
  },
  {
   "cell_type": "code",
   "execution_count": 39,
   "metadata": {},
   "outputs": [
    {
     "name": "stdout",
     "output_type": "stream",
     "text": [
      "Requirement already satisfied: scikit-learn in /opt/homebrew/Caskroom/miniforge/base/lib/python3.9/site-packages (1.1.3)\n",
      "Requirement already satisfied: threadpoolctl>=2.0.0 in /opt/homebrew/Caskroom/miniforge/base/lib/python3.9/site-packages (from scikit-learn) (3.1.0)\n",
      "Requirement already satisfied: numpy>=1.17.3 in /opt/homebrew/Caskroom/miniforge/base/lib/python3.9/site-packages (from scikit-learn) (1.23.4)\n",
      "Requirement already satisfied: scipy>=1.3.2 in /opt/homebrew/Caskroom/miniforge/base/lib/python3.9/site-packages (from scikit-learn) (1.9.3)\n",
      "Requirement already satisfied: joblib>=1.0.0 in /opt/homebrew/Caskroom/miniforge/base/lib/python3.9/site-packages (from scikit-learn) (1.2.0)\n",
      "Note: you may need to restart the kernel to use updated packages.\n"
     ]
    }
   ],
   "source": [
    "%pip install scikit-learn"
   ]
  },
  {
   "cell_type": "code",
   "execution_count": 61,
   "metadata": {},
   "outputs": [],
   "source": [
    "import pandas as pd\n",
    "\n",
    "import matplotlib.pyplot as plt\n",
    "\n",
    "import numpy as np\n",
    "\n",
    "import matplotlib.pyplot as plt\n",
    "%matplotlib inline\n",
    "import seaborn as sns\n",
    "\n",
    "import sklearn\n",
    "from sklearn.linear_model import LinearRegression\n",
    "from sklearn.feature_selection import SequentialFeatureSelector"
   ]
  },
  {
   "cell_type": "code",
   "execution_count": 41,
   "metadata": {},
   "outputs": [
    {
     "data": {
      "text/html": [
       "<div>\n",
       "<style scoped>\n",
       "    .dataframe tbody tr th:only-of-type {\n",
       "        vertical-align: middle;\n",
       "    }\n",
       "\n",
       "    .dataframe tbody tr th {\n",
       "        vertical-align: top;\n",
       "    }\n",
       "\n",
       "    .dataframe thead th {\n",
       "        text-align: right;\n",
       "    }\n",
       "</style>\n",
       "<table border=\"1\" class=\"dataframe\">\n",
       "  <thead>\n",
       "    <tr style=\"text-align: right;\">\n",
       "      <th></th>\n",
       "      <th>longitude</th>\n",
       "      <th>latitude</th>\n",
       "      <th>housing_median_age</th>\n",
       "      <th>total_rooms</th>\n",
       "      <th>total_bedrooms</th>\n",
       "      <th>population</th>\n",
       "      <th>households</th>\n",
       "      <th>median_income</th>\n",
       "      <th>median_house_value</th>\n",
       "      <th>ocean_proximity</th>\n",
       "    </tr>\n",
       "  </thead>\n",
       "  <tbody>\n",
       "    <tr>\n",
       "      <th>0</th>\n",
       "      <td>-122.23</td>\n",
       "      <td>37.88</td>\n",
       "      <td>41.0</td>\n",
       "      <td>880.0</td>\n",
       "      <td>129.0</td>\n",
       "      <td>322.0</td>\n",
       "      <td>126.0</td>\n",
       "      <td>8.3252</td>\n",
       "      <td>452600.0</td>\n",
       "      <td>NEAR BAY</td>\n",
       "    </tr>\n",
       "    <tr>\n",
       "      <th>1</th>\n",
       "      <td>-122.22</td>\n",
       "      <td>37.86</td>\n",
       "      <td>21.0</td>\n",
       "      <td>7099.0</td>\n",
       "      <td>1106.0</td>\n",
       "      <td>2401.0</td>\n",
       "      <td>1138.0</td>\n",
       "      <td>8.3014</td>\n",
       "      <td>358500.0</td>\n",
       "      <td>NEAR BAY</td>\n",
       "    </tr>\n",
       "    <tr>\n",
       "      <th>2</th>\n",
       "      <td>-122.24</td>\n",
       "      <td>37.85</td>\n",
       "      <td>52.0</td>\n",
       "      <td>1467.0</td>\n",
       "      <td>190.0</td>\n",
       "      <td>496.0</td>\n",
       "      <td>177.0</td>\n",
       "      <td>7.2574</td>\n",
       "      <td>352100.0</td>\n",
       "      <td>NEAR BAY</td>\n",
       "    </tr>\n",
       "    <tr>\n",
       "      <th>3</th>\n",
       "      <td>-122.25</td>\n",
       "      <td>37.85</td>\n",
       "      <td>52.0</td>\n",
       "      <td>1274.0</td>\n",
       "      <td>235.0</td>\n",
       "      <td>558.0</td>\n",
       "      <td>219.0</td>\n",
       "      <td>5.6431</td>\n",
       "      <td>341300.0</td>\n",
       "      <td>NEAR BAY</td>\n",
       "    </tr>\n",
       "    <tr>\n",
       "      <th>4</th>\n",
       "      <td>-122.25</td>\n",
       "      <td>37.85</td>\n",
       "      <td>52.0</td>\n",
       "      <td>1627.0</td>\n",
       "      <td>280.0</td>\n",
       "      <td>565.0</td>\n",
       "      <td>259.0</td>\n",
       "      <td>3.8462</td>\n",
       "      <td>342200.0</td>\n",
       "      <td>NEAR BAY</td>\n",
       "    </tr>\n",
       "  </tbody>\n",
       "</table>\n",
       "</div>"
      ],
      "text/plain": [
       "   longitude  latitude  housing_median_age  total_rooms  total_bedrooms  \\\n",
       "0    -122.23     37.88                41.0        880.0           129.0   \n",
       "1    -122.22     37.86                21.0       7099.0          1106.0   \n",
       "2    -122.24     37.85                52.0       1467.0           190.0   \n",
       "3    -122.25     37.85                52.0       1274.0           235.0   \n",
       "4    -122.25     37.85                52.0       1627.0           280.0   \n",
       "\n",
       "   population  households  median_income  median_house_value ocean_proximity  \n",
       "0       322.0       126.0         8.3252            452600.0        NEAR BAY  \n",
       "1      2401.0      1138.0         8.3014            358500.0        NEAR BAY  \n",
       "2       496.0       177.0         7.2574            352100.0        NEAR BAY  \n",
       "3       558.0       219.0         5.6431            341300.0        NEAR BAY  \n",
       "4       565.0       259.0         3.8462            342200.0        NEAR BAY  "
      ]
     },
     "execution_count": 41,
     "metadata": {},
     "output_type": "execute_result"
    }
   ],
   "source": [
    "## Load the dataset here in a pandas dataframe\n",
    "## Display the informations of the dataframe\n",
    "\n",
    "df = pd.read_csv('./data/housing.csv')\n",
    "df.head()"
   ]
  },
  {
   "cell_type": "markdown",
   "metadata": {},
   "source": [
    "## 1.  Preprocessing / Feature Engineering\n",
    "\n",
    "\n",
    "<div class=\"alert alert-info\">\n",
    "\n",
    "When facing a new dataset, one must pay attention to several aspects regarding the following themes:\n",
    "\n",
    "* **Sanity of data**: Are all the values in the dataset in a format that can be interpreted by the model we want to train?\n",
    "    \n",
    "    \n",
    "* **Redundancy of data**: do all features bring new information of is there repetition between features?\n",
    "    \n",
    "    \n",
    "* **Relevance of data** : Does a feature bring information about the target?\n",
    "    \n",
    "    \n",
    "* **Balance of influences** : Will the orders of magnitude of the numerical values of the features influence the training of my models?\n",
    "    \n",
    "The initial data may contain flaws with respect to one or more of these themes. Careful inspection of the data is therefore necessary in order to ensure that the models that will be trained do not suffer from biases that can be avoided.\n",
    "\n",
    "    \n",
    "</div>  "
   ]
  },
  {
   "cell_type": "markdown",
   "metadata": {},
   "source": [
    "### 1.a Sanity Verification\n",
    "\n",
    "The first aspect to look at is the verification that models will be fed only with information it may exploit i.e. no data entry may interfere with proper computation.\n",
    "\n",
    "#### Missing Values\n",
    "It is quite common when facing a new dataset to notice missing values (NaN) that will prevent the\n",
    "proper training of the machine learning models. A common solution to this problem is simply to\n",
    "drop the data samples containing NaNs. Your first task in this session is to remove those entries\n",
    "from the dataset.\n",
    "\n",
    "<div class=\"alert alert-success\">\n",
    "    \n",
    "* **Remove** the samples of the dataset with missing information using pandas functions.\n",
    "\n",
    "</div>"
   ]
  },
  {
   "cell_type": "code",
   "execution_count": 42,
   "metadata": {},
   "outputs": [],
   "source": [
    "# Drop the row containing missing values\n",
    "df = df.dropna()\n",
    "\n"
   ]
  },
  {
   "cell_type": "markdown",
   "metadata": {},
   "source": [
    "#### Data Format\n",
    "\n",
    "Some features may be expressed in formats that can not be processed as they are (mainly categorical features) and therefore must be expressed differently to be ingested by a model. \n",
    "\n",
    "**Note:**      A **single** original feature may be replaced by **more than one** new features.\n",
    "\n",
    "<div class=\"alert alert-success\">\n",
    "    \n",
    "* **Identify** features requiring a new expression\n",
    "* **Replace** those features with equivalent ones able to be given as input to a model.\n",
    "    \n",
    "</div>"
   ]
  },
  {
   "cell_type": "code",
   "execution_count": 43,
   "metadata": {},
   "outputs": [
    {
     "name": "stdout",
     "output_type": "stream",
     "text": [
      "<class 'pandas.core.frame.DataFrame'>\n",
      "Int64Index: 20433 entries, 0 to 20639\n",
      "Data columns (total 10 columns):\n",
      " #   Column              Non-Null Count  Dtype  \n",
      "---  ------              --------------  -----  \n",
      " 0   longitude           20433 non-null  float64\n",
      " 1   latitude            20433 non-null  float64\n",
      " 2   housing_median_age  20433 non-null  float64\n",
      " 3   total_rooms         20433 non-null  float64\n",
      " 4   total_bedrooms      20433 non-null  float64\n",
      " 5   population          20433 non-null  float64\n",
      " 6   households          20433 non-null  float64\n",
      " 7   median_income       20433 non-null  float64\n",
      " 8   median_house_value  20433 non-null  float64\n",
      " 9   ocean_proximity     20433 non-null  object \n",
      "dtypes: float64(9), object(1)\n",
      "memory usage: 1.7+ MB\n",
      "None\n",
      "<1H OCEAN     9034\n",
      "INLAND        6496\n",
      "NEAR OCEAN    2628\n",
      "NEAR BAY      2270\n",
      "ISLAND           5\n",
      "Name: ocean_proximity, dtype: int64\n"
     ]
    }
   ],
   "source": [
    "# Display the informations of the dataframe\n",
    "print(df.info())\n",
    "\n",
    "print(df['ocean_proximity'].value_counts())"
   ]
  },
  {
   "cell_type": "code",
   "execution_count": 44,
   "metadata": {},
   "outputs": [
    {
     "data": {
      "text/html": [
       "<div>\n",
       "<style scoped>\n",
       "    .dataframe tbody tr th:only-of-type {\n",
       "        vertical-align: middle;\n",
       "    }\n",
       "\n",
       "    .dataframe tbody tr th {\n",
       "        vertical-align: top;\n",
       "    }\n",
       "\n",
       "    .dataframe thead th {\n",
       "        text-align: right;\n",
       "    }\n",
       "</style>\n",
       "<table border=\"1\" class=\"dataframe\">\n",
       "  <thead>\n",
       "    <tr style=\"text-align: right;\">\n",
       "      <th></th>\n",
       "      <th>longitude</th>\n",
       "      <th>latitude</th>\n",
       "      <th>housing_median_age</th>\n",
       "      <th>total_rooms</th>\n",
       "      <th>total_bedrooms</th>\n",
       "      <th>population</th>\n",
       "      <th>households</th>\n",
       "      <th>median_income</th>\n",
       "      <th>median_house_value</th>\n",
       "      <th>ocean_proximity_&lt;1H OCEAN</th>\n",
       "      <th>ocean_proximity_INLAND</th>\n",
       "      <th>ocean_proximity_ISLAND</th>\n",
       "      <th>ocean_proximity_NEAR BAY</th>\n",
       "      <th>ocean_proximity_NEAR OCEAN</th>\n",
       "    </tr>\n",
       "  </thead>\n",
       "  <tbody>\n",
       "    <tr>\n",
       "      <th>0</th>\n",
       "      <td>-122.23</td>\n",
       "      <td>37.88</td>\n",
       "      <td>41.0</td>\n",
       "      <td>880.0</td>\n",
       "      <td>129.0</td>\n",
       "      <td>322.0</td>\n",
       "      <td>126.0</td>\n",
       "      <td>8.3252</td>\n",
       "      <td>452600.0</td>\n",
       "      <td>0</td>\n",
       "      <td>0</td>\n",
       "      <td>0</td>\n",
       "      <td>1</td>\n",
       "      <td>0</td>\n",
       "    </tr>\n",
       "    <tr>\n",
       "      <th>1</th>\n",
       "      <td>-122.22</td>\n",
       "      <td>37.86</td>\n",
       "      <td>21.0</td>\n",
       "      <td>7099.0</td>\n",
       "      <td>1106.0</td>\n",
       "      <td>2401.0</td>\n",
       "      <td>1138.0</td>\n",
       "      <td>8.3014</td>\n",
       "      <td>358500.0</td>\n",
       "      <td>0</td>\n",
       "      <td>0</td>\n",
       "      <td>0</td>\n",
       "      <td>1</td>\n",
       "      <td>0</td>\n",
       "    </tr>\n",
       "    <tr>\n",
       "      <th>2</th>\n",
       "      <td>-122.24</td>\n",
       "      <td>37.85</td>\n",
       "      <td>52.0</td>\n",
       "      <td>1467.0</td>\n",
       "      <td>190.0</td>\n",
       "      <td>496.0</td>\n",
       "      <td>177.0</td>\n",
       "      <td>7.2574</td>\n",
       "      <td>352100.0</td>\n",
       "      <td>0</td>\n",
       "      <td>0</td>\n",
       "      <td>0</td>\n",
       "      <td>1</td>\n",
       "      <td>0</td>\n",
       "    </tr>\n",
       "    <tr>\n",
       "      <th>3</th>\n",
       "      <td>-122.25</td>\n",
       "      <td>37.85</td>\n",
       "      <td>52.0</td>\n",
       "      <td>1274.0</td>\n",
       "      <td>235.0</td>\n",
       "      <td>558.0</td>\n",
       "      <td>219.0</td>\n",
       "      <td>5.6431</td>\n",
       "      <td>341300.0</td>\n",
       "      <td>0</td>\n",
       "      <td>0</td>\n",
       "      <td>0</td>\n",
       "      <td>1</td>\n",
       "      <td>0</td>\n",
       "    </tr>\n",
       "    <tr>\n",
       "      <th>4</th>\n",
       "      <td>-122.25</td>\n",
       "      <td>37.85</td>\n",
       "      <td>52.0</td>\n",
       "      <td>1627.0</td>\n",
       "      <td>280.0</td>\n",
       "      <td>565.0</td>\n",
       "      <td>259.0</td>\n",
       "      <td>3.8462</td>\n",
       "      <td>342200.0</td>\n",
       "      <td>0</td>\n",
       "      <td>0</td>\n",
       "      <td>0</td>\n",
       "      <td>1</td>\n",
       "      <td>0</td>\n",
       "    </tr>\n",
       "  </tbody>\n",
       "</table>\n",
       "</div>"
      ],
      "text/plain": [
       "   longitude  latitude  housing_median_age  total_rooms  total_bedrooms  \\\n",
       "0    -122.23     37.88                41.0        880.0           129.0   \n",
       "1    -122.22     37.86                21.0       7099.0          1106.0   \n",
       "2    -122.24     37.85                52.0       1467.0           190.0   \n",
       "3    -122.25     37.85                52.0       1274.0           235.0   \n",
       "4    -122.25     37.85                52.0       1627.0           280.0   \n",
       "\n",
       "   population  households  median_income  median_house_value  \\\n",
       "0       322.0       126.0         8.3252            452600.0   \n",
       "1      2401.0      1138.0         8.3014            358500.0   \n",
       "2       496.0       177.0         7.2574            352100.0   \n",
       "3       558.0       219.0         5.6431            341300.0   \n",
       "4       565.0       259.0         3.8462            342200.0   \n",
       "\n",
       "   ocean_proximity_<1H OCEAN  ocean_proximity_INLAND  ocean_proximity_ISLAND  \\\n",
       "0                          0                       0                       0   \n",
       "1                          0                       0                       0   \n",
       "2                          0                       0                       0   \n",
       "3                          0                       0                       0   \n",
       "4                          0                       0                       0   \n",
       "\n",
       "   ocean_proximity_NEAR BAY  ocean_proximity_NEAR OCEAN  \n",
       "0                         1                           0  \n",
       "1                         1                           0  \n",
       "2                         1                           0  \n",
       "3                         1                           0  \n",
       "4                         1                           0  "
      ]
     },
     "execution_count": 44,
     "metadata": {},
     "output_type": "execute_result"
    }
   ],
   "source": [
    "y = pd.get_dummies(df, columns=['ocean_proximity'])\n",
    "y.head()"
   ]
  },
  {
   "cell_type": "markdown",
   "metadata": {},
   "source": [
    "#### Outlier Removal\n",
    "\n",
    "Some of the samples in the dataset may contain values of features that are not representative of\n",
    "the general distribution of the other samples i.e. outliers. Remove those samples from the\n",
    "dataset.\n",
    "\n",
    "<div class=\"alert alert-success\">\n",
    "    \n",
    "* **Choose** a criterion would you use to find outliers. How would you use that criterion?\n",
    "* **Remove** the samples being outliers in the distributions of one or more features.\n",
    "* **Show** box plots of the distributions of each feature, before and after removing outliers.\n",
    "    \n",
    "* What other processing could you do instead of removing samples? **Discuss**.\n",
    "\n",
    "</div>"
   ]
  },
  {
   "cell_type": "code",
   "execution_count": 45,
   "metadata": {},
   "outputs": [
    {
     "data": {
      "text/html": [
       "<div>\n",
       "<style scoped>\n",
       "    .dataframe tbody tr th:only-of-type {\n",
       "        vertical-align: middle;\n",
       "    }\n",
       "\n",
       "    .dataframe tbody tr th {\n",
       "        vertical-align: top;\n",
       "    }\n",
       "\n",
       "    .dataframe thead th {\n",
       "        text-align: right;\n",
       "    }\n",
       "</style>\n",
       "<table border=\"1\" class=\"dataframe\">\n",
       "  <thead>\n",
       "    <tr style=\"text-align: right;\">\n",
       "      <th></th>\n",
       "      <th>longitude</th>\n",
       "      <th>latitude</th>\n",
       "      <th>housing_median_age</th>\n",
       "      <th>total_rooms</th>\n",
       "      <th>total_bedrooms</th>\n",
       "      <th>population</th>\n",
       "      <th>households</th>\n",
       "      <th>median_income</th>\n",
       "      <th>median_house_value</th>\n",
       "      <th>ocean_proximity_&lt;1H OCEAN</th>\n",
       "      <th>ocean_proximity_INLAND</th>\n",
       "      <th>ocean_proximity_ISLAND</th>\n",
       "      <th>ocean_proximity_NEAR BAY</th>\n",
       "      <th>ocean_proximity_NEAR OCEAN</th>\n",
       "    </tr>\n",
       "  </thead>\n",
       "  <tbody>\n",
       "    <tr>\n",
       "      <th>0</th>\n",
       "      <td>-122.23</td>\n",
       "      <td>37.88</td>\n",
       "      <td>41.0</td>\n",
       "      <td>880.0</td>\n",
       "      <td>129.0</td>\n",
       "      <td>322.0</td>\n",
       "      <td>126.0</td>\n",
       "      <td>8.3252</td>\n",
       "      <td>452600.0</td>\n",
       "      <td>0</td>\n",
       "      <td>0</td>\n",
       "      <td>0</td>\n",
       "      <td>1</td>\n",
       "      <td>0</td>\n",
       "    </tr>\n",
       "    <tr>\n",
       "      <th>1</th>\n",
       "      <td>-122.22</td>\n",
       "      <td>37.86</td>\n",
       "      <td>21.0</td>\n",
       "      <td>7099.0</td>\n",
       "      <td>1106.0</td>\n",
       "      <td>2401.0</td>\n",
       "      <td>1138.0</td>\n",
       "      <td>8.3014</td>\n",
       "      <td>358500.0</td>\n",
       "      <td>0</td>\n",
       "      <td>0</td>\n",
       "      <td>0</td>\n",
       "      <td>1</td>\n",
       "      <td>0</td>\n",
       "    </tr>\n",
       "    <tr>\n",
       "      <th>8</th>\n",
       "      <td>-122.26</td>\n",
       "      <td>37.84</td>\n",
       "      <td>42.0</td>\n",
       "      <td>2555.0</td>\n",
       "      <td>665.0</td>\n",
       "      <td>1206.0</td>\n",
       "      <td>595.0</td>\n",
       "      <td>2.0804</td>\n",
       "      <td>226700.0</td>\n",
       "      <td>0</td>\n",
       "      <td>0</td>\n",
       "      <td>0</td>\n",
       "      <td>1</td>\n",
       "      <td>0</td>\n",
       "    </tr>\n",
       "    <tr>\n",
       "      <th>15</th>\n",
       "      <td>-122.26</td>\n",
       "      <td>37.85</td>\n",
       "      <td>50.0</td>\n",
       "      <td>1120.0</td>\n",
       "      <td>283.0</td>\n",
       "      <td>697.0</td>\n",
       "      <td>264.0</td>\n",
       "      <td>2.1250</td>\n",
       "      <td>140000.0</td>\n",
       "      <td>0</td>\n",
       "      <td>0</td>\n",
       "      <td>0</td>\n",
       "      <td>1</td>\n",
       "      <td>0</td>\n",
       "    </tr>\n",
       "    <tr>\n",
       "      <th>18</th>\n",
       "      <td>-122.26</td>\n",
       "      <td>37.84</td>\n",
       "      <td>50.0</td>\n",
       "      <td>2239.0</td>\n",
       "      <td>455.0</td>\n",
       "      <td>990.0</td>\n",
       "      <td>419.0</td>\n",
       "      <td>1.9911</td>\n",
       "      <td>158700.0</td>\n",
       "      <td>0</td>\n",
       "      <td>0</td>\n",
       "      <td>0</td>\n",
       "      <td>1</td>\n",
       "      <td>0</td>\n",
       "    </tr>\n",
       "  </tbody>\n",
       "</table>\n",
       "</div>"
      ],
      "text/plain": [
       "    longitude  latitude  housing_median_age  total_rooms  total_bedrooms  \\\n",
       "0     -122.23     37.88                41.0        880.0           129.0   \n",
       "1     -122.22     37.86                21.0       7099.0          1106.0   \n",
       "8     -122.26     37.84                42.0       2555.0           665.0   \n",
       "15    -122.26     37.85                50.0       1120.0           283.0   \n",
       "18    -122.26     37.84                50.0       2239.0           455.0   \n",
       "\n",
       "    population  households  median_income  median_house_value  \\\n",
       "0        322.0       126.0         8.3252            452600.0   \n",
       "1       2401.0      1138.0         8.3014            358500.0   \n",
       "8       1206.0       595.0         2.0804            226700.0   \n",
       "15       697.0       264.0         2.1250            140000.0   \n",
       "18       990.0       419.0         1.9911            158700.0   \n",
       "\n",
       "    ocean_proximity_<1H OCEAN  ocean_proximity_INLAND  ocean_proximity_ISLAND  \\\n",
       "0                           0                       0                       0   \n",
       "1                           0                       0                       0   \n",
       "8                           0                       0                       0   \n",
       "15                          0                       0                       0   \n",
       "18                          0                       0                       0   \n",
       "\n",
       "    ocean_proximity_NEAR BAY  ocean_proximity_NEAR OCEAN  \n",
       "0                          1                           0  \n",
       "1                          1                           0  \n",
       "8                          1                           0  \n",
       "15                         1                           0  \n",
       "18                         1                           0  "
      ]
     },
     "execution_count": 45,
     "metadata": {},
     "output_type": "execute_result"
    }
   ],
   "source": [
    "# For every column drop every row having a value outside of the 1st and 99th percentile\n",
    "\n",
    "for column in y:\n",
    "    if column != 'median_house_value' and column.startswith('ocean_proximity') == False:\n",
    "        y = y[(y[column] > y[column].quantile(0.01)) & (y[column] < y[column].quantile(0.99))]\n",
    "y.head()"
   ]
  },
  {
   "cell_type": "markdown",
   "metadata": {},
   "source": [
    "### 1.b Redundancy verification\n",
    "\n",
    "Observe the correlation matrix between features. Do you find redundant features ? Can you\n",
    "explain how such features affect a model such as a Linear regressor or a KNN regressor? In\n",
    "both case, Is it important to keep or drop redundant features?\n",
    "\n",
    "\n",
    "<div class=\"alert alert-info\">\n",
    "    \n",
    "**KNN regressor/classifier**\n",
    "    \n",
    "The principle of the KNN methods is compare the given input sample(s) to the training data stored in its 'memory'.\n",
    "\n",
    "For any input sample $\\mathbf{s}$, the distance between $\\mathbf{s}$ and any training sample in training dataset  $\\mathbf{X}$ is computed:\n",
    "    \n",
    "\\begin{equation}\n",
    "\\mathbf{D} = || \\mathbf{s} - \\mathbf{X}||\n",
    "\\end{equation}\n",
    "    \n",
    "Then, only the k samples with lowest distances in $\\mathbf{D}$ - therefore named 'neighbors' of input $\\mathbf{s}$ in $\\mathbf{X}$- are considered such that the output depends on whether KNN is used for classification or regression: \n",
    "    \n",
    "    \n",
    "\n",
    "* In KNN classification, the output is a class membership. Input $\\mathbf{s}$ is classified by a plurality vote of its neighbors, such that $\\mathbf{s}$ is assigned to the class most common among its k nearest neighbors. \n",
    "    \n",
    "    \n",
    "    \n",
    "    \n",
    "* In KNN regression, the output is the target value for $\\mathbf{s}$. This value is the average of the target values of the k nearest neighbors.\n",
    "    \n",
    "<img src=\"https://upload.wikimedia.org/wikipedia/commons/thumb/e/e7/KnnClassification.svg/1024px-KnnClassification.svg.png\" alt=\"Alternative text\" width=\"300\"/>\n",
    "\n",
    "\n",
    "</div>"
   ]
  },
  {
   "cell_type": "markdown",
   "metadata": {},
   "source": [
    "\n",
    "<div class=\"alert alert-success\">\n",
    "    \n",
    "**Look for redundant information in the dataset**\n",
    "    \n",
    "* **Plot** the correlation between features, using the 'heatmap' function from the **seaborn** module.\n",
    "* Can you tell which features are redundant ?\n",
    "\n",
    "</div>"
   ]
  },
  {
   "cell_type": "code",
   "execution_count": 46,
   "metadata": {
    "scrolled": false
   },
   "outputs": [
    {
     "data": {
      "text/plain": [
       "<AxesSubplot: >"
      ]
     },
     "execution_count": 46,
     "metadata": {},
     "output_type": "execute_result"
    },
    {
     "data": {
      "image/png": "[encoded data removed]",
      "text/plain": [
       "<Figure size 432x288 with 2 Axes>"
      ]
     },
     "metadata": {
      "needs_background": "light"
     },
     "output_type": "display_data"
    }
   ],
   "source": [
    "# Plot the correlation matrix of the dataframe\n",
    "sns.heatmap(y.corr())\n",
    "\n",
    "# There is a strong correlation between total_bedrooms and total_rooms and between population and households\n",
    "# There is also a correlation between median_income and median_house_value"
   ]
  },
  {
   "cell_type": "markdown",
   "metadata": {},
   "source": [
    "### 1.c Relevance verification \n",
    "Observe the correlation matrix between features and the target. Which features do you think are\n",
    "more likely to be selected when performing Feature Selection for a linear model? Do you think\n",
    "your answer will also hold for other regression models? Why?\n",
    "<div class=\"alert alert-success\">\n",
    "    \n",
    "**Find most relevant features**\n",
    "    \n",
    "* **Plot** the correlation between each feature and the target, using the 'heatmap' function from the **seaborn** module.\n",
    "* Can you tell which features are the most relevant for a **linear regression model** ?\n",
    "\n",
    "</div>"
   ]
  },
  {
   "cell_type": "code",
   "execution_count": 47,
   "metadata": {},
   "outputs": [],
   "source": [
    "# The msot relevant features are median_income, ocean_proximity_<1H OCEAN, ocean_proximity_INLAND, ocean_proximity_NEAR OCEAN, ocean_proximity_NEAR BAY, population, housing_median_age, latitude, longitude\n",
    "\n",
    "#y = y.drop(['total_bedrooms', 'population', 'households','median_house_value'], axis=1)"
   ]
  },
  {
   "cell_type": "markdown",
   "metadata": {},
   "source": [
    "### 1.d Balance of Influences\n",
    "\n",
    "Observe the modified dataset once again: are all features of the same order of magnitude? Does\n",
    "this variation affect a linear regressor? And a KNN regressor? How would you solve this?\n",
    "\n",
    "<div class=\"alert alert-success\">\n",
    "    \n",
    "**Make sure features have equal impact on the regression models.**\n",
    "    \n",
    "* Can you identify which features may overwhelm others ?\n",
    "* **Scale** each feature to a common range of values.\n",
    "\n",
    "</div>"
   ]
  },
  {
   "cell_type": "code",
   "execution_count": 48,
   "metadata": {},
   "outputs": [
    {
     "name": "stdout",
     "output_type": "stream",
     "text": [
      "median_house_value            1.182563e+10\n",
      "total_rooms                   1.780404e+06\n",
      "population                    4.938175e+05\n",
      "total_bedrooms                6.828994e+04\n",
      "households                    5.655353e+04\n",
      "housing_median_age            1.206270e+02\n",
      "latitude                      4.013337e+00\n",
      "longitude                     3.522442e+00\n",
      "median_income                 2.678395e+00\n",
      "ocean_proximity_<1H OCEAN     2.495729e-01\n",
      "ocean_proximity_INLAND        2.142275e-01\n",
      "ocean_proximity_NEAR OCEAN    1.063066e-01\n",
      "ocean_proximity_NEAR BAY      8.121440e-02\n",
      "ocean_proximity_ISLAND        1.226317e-04\n",
      "dtype: float64\n",
      "ocean_proximity_NEAR BAY      1.000061\n",
      "ocean_proximity_NEAR OCEAN    1.000061\n",
      "longitude                     1.000061\n",
      "households                    1.000061\n",
      "median_house_value            1.000061\n",
      "ocean_proximity_INLAND        1.000061\n",
      "ocean_proximity_ISLAND        1.000061\n",
      "housing_median_age            1.000061\n",
      "total_rooms                   1.000061\n",
      "population                    1.000061\n",
      "median_income                 1.000061\n",
      "ocean_proximity_<1H OCEAN     1.000061\n",
      "latitude                      1.000061\n",
      "total_bedrooms                1.000061\n",
      "dtype: float64\n"
     ]
    }
   ],
   "source": [
    "# Rank features by variances \n",
    "ranking = y.var().sort_values(ascending=False)\n",
    "print(ranking)\n",
    "\n",
    "# Normalise the features\n",
    "from sklearn.preprocessing import StandardScaler\n",
    "scaler = StandardScaler()\n",
    "\n",
    "y_scaled = pd.DataFrame(scaler.fit_transform(y), columns=y.columns)\n",
    "\n",
    "ranking_scaled = y_scaled.var().sort_values(ascending=False)\n",
    "print(ranking_scaled)\n"
   ]
  },
  {
   "cell_type": "markdown",
   "metadata": {},
   "source": [
    "### 1.e Train-Test Split\n",
    "\n",
    "To test out the generalization of your linear regressor, a data separation step is necessary. You'll now split the dataset in two equal parts at random ({X_train, Y_train} and {X_test, Y_test}). This will allow you to build a model on the former and assess its performance on the latter.\n",
    "\n",
    "<div class=\"alert alert-success\">\n",
    "  \n",
    "* **Split** the dataset in training and test subsets.\n",
    "\n",
    "</div>"
   ]
  },
  {
   "cell_type": "code",
   "execution_count": 53,
   "metadata": {},
   "outputs": [],
   "source": [
    "# Split the dataset into a training set and a test set\n",
    "train_set, test_set = sklearn.model_selection.train_test_split(y_scaled, test_size=0.5)\n",
    "X_train = train_set.drop(['median_house_value'], axis=1)\n",
    "Y_train = train_set['median_house_value']\n",
    "X_test = test_set.drop(['median_house_value'], axis=1)\n",
    "Y_test = test_set['median_house_value']"
   ]
  },
  {
   "cell_type": "markdown",
   "metadata": {},
   "source": [
    "## 2. Feature Selection\n",
    "\n",
    "Keeping unnecessary feature while training a machine learning model has several disadvantages such as increase its comlexity, and decrease its generalization ability.\n",
    "\n",
    "Hence, feature selection is one of the important steps while building a machine learning model. the goal of this step is to find the best possible set of features for building a model with best possible accuracy and lowest bias.\n",
    "\n",
    "<div class=\"alert alert-success\">\n",
    "  \n",
    "* **Run** the following cells and observe the RMSE obtained after training on all features. \n",
    "    \n",
    "    We will try to improve the performances with feature selection.\n",
    "\n",
    "</div>"
   ]
  },
  {
   "cell_type": "code",
   "execution_count": 50,
   "metadata": {},
   "outputs": [],
   "source": [
    "# Compute the Root Mean Square Error\n",
    "def compute_rmse(predict, target):\n",
    "    if len(target.shape) == 2:\n",
    "        target = target.squeeze()\n",
    "    if len(predict.shape) == 2:\n",
    "        predict = predict.squeeze()\n",
    "    diff = target - predict\n",
    "    if len(diff.shape) == 1:\n",
    "        diff = np.expand_dims(diff, axis=-1)\n",
    "    rmse = np.sqrt(diff.T@diff / diff.shape[0])\n",
    "    return float(rmse)"
   ]
  },
  {
   "cell_type": "code",
   "execution_count": 51,
   "metadata": {},
   "outputs": [],
   "source": [
    "def fit_predict_with_features(X_train,Y_train, X_test, selected_features):\n",
    "    X_train_filtered = X_train[selected_features]\n",
    "    X_test_filtered = X_test[selected_features]\n",
    "    \n",
    "    linear_regression_m = LinearRegression()\n",
    "    linear_regression_m.fit(X_train_filtered,Y_train)\n",
    "    y_pred = linear_regression_m.predict(X_test_filtered)\n",
    "    \n",
    "    return y_pred\n"
   ]
  },
  {
   "cell_type": "code",
   "execution_count": 54,
   "metadata": {},
   "outputs": [
    {
     "name": "stdout",
     "output_type": "stream",
     "text": [
      "RMSE Without FS\n",
      "0.5668287183076868\n"
     ]
    }
   ],
   "source": [
    "print('RMSE Without FS')\n",
    "Y_pred = fit_predict_with_features(X_train,Y_train, X_test, X_train.columns)\n",
    "print(compute_rmse(Y_pred, Y_test.to_numpy()))\n"
   ]
  },
  {
   "attachments": {
    "image.png": {
     "image/png": "[encoded data removed]"
    }
   },
   "cell_type": "markdown",
   "metadata": {},
   "source": [
    "## 2.1 Filtering\n",
    "\n",
    "A first common method for feature selection is filtering out the available features that are unnecessary/redundant:\n",
    "\n",
    "![image.png](attachment:image.png)\n",
    "\n",
    "This filtering can be based on several metrics or statistical tests such as **Correlation coefficient**, **Mutual information**, **Chi-square tests**...\n",
    "\n",
    "Today, we ask you to select relevant features using the filtering method. To do so, define a correlation threshold between\n",
    "the features and the target and filter out features with a correlation lower than this threshold.\n",
    "\n",
    "\n",
    "<div class=\"alert alert-success\">\n",
    "  \n",
    "**Feature selection by filtering**\n",
    "    \n",
    "* According to your thoughts from section 1.3, **select** a subset of features based on their correlation coefficient with the target.\n",
    "* Dou you get improved performances compared to unfiltered dataset?\n",
    "\n",
    "</div>"
   ]
  },
  {
   "cell_type": "code",
   "execution_count": 58,
   "metadata": {},
   "outputs": [
    {
     "name": "stdout",
     "output_type": "stream",
     "text": [
      "['median_income', 'ocean_proximity_INLAND']\n"
     ]
    }
   ],
   "source": [
    "# keep only the features with high correlation\n",
    "\n",
    "#################### vvvvvvvv\n",
    "## QUESTION Define threshold and filter out the features with corr < thresh\n",
    "# create a variable named relevant_features containing a pandas series with the features to keep.\n",
    "#\n",
    "# relevant_features = ??????\n",
    "#################### ^^^^^\n",
    "\n",
    "threshold = 0.3\n",
    "relevant_features = y.corr().median_house_value[abs(y.corr().median_house_value) > threshold]\n",
    "\n",
    "rf = [k for k,v in relevant_features.items() if k != 'median_house_value']\n",
    "print(rf)"
   ]
  },
  {
   "cell_type": "code",
   "execution_count": 59,
   "metadata": {},
   "outputs": [
    {
     "name": "stdout",
     "output_type": "stream",
     "text": [
      "RMSE after Filter\n",
      "0.6406118809282267\n"
     ]
    }
   ],
   "source": [
    "y_pred = fit_predict_with_features(X_train,Y_train, X_test, rf)\n",
    "\n",
    "print('RMSE after Filter')\n",
    "print(compute_rmse(y_pred, Y_test.to_numpy()))"
   ]
  },
  {
   "attachments": {
    "image.png": {
     "image/png": "[encoded data removed]"
    }
   },
   "cell_type": "markdown",
   "metadata": {},
   "source": [
    "## 2.2 Wrapper method\n",
    "\n",
    "Wrappers methods are iterative methods to select a subset of features to train a model such that addition and removal of features takes place according to conclusions made from prior training of the model. \n",
    "\n",
    "Stopping criteria for selecting the best subset are usually pre-defined e.g. when the performance of the model decreases or a specific number of features has been achieved. \n",
    "\n",
    "![image.png](attachment:image.png)\n",
    "\n",
    "The main advantage of wrapper methods over the filter methods is that they provide an optimal set of features for training the model, thus resulting in better accuracy than the filter methods but are computationally more expensive.\n",
    "\n",
    "\n",
    "<div class=\"alert alert-success\">\n",
    "  \n",
    "**Feature selection by Wrapping methods**\n",
    "    \n",
    "* Apply both **Forward** and **Backward** feature selection using functions classes from **sklearn.feature_selection**\n",
    "* **Compare** the performances with models trained on different feature subsets.\n",
    "    \n",
    "</div>\n",
    "\n",
    "### Forward"
   ]
  },
  {
   "cell_type": "code",
   "execution_count": 69,
   "metadata": {},
   "outputs": [
    {
     "name": "stdout",
     "output_type": "stream",
     "text": [
      "['longitude' 'latitude' 'housing_median_age' 'total_rooms'\n",
      " 'total_bedrooms' 'population' 'households' 'median_income'\n",
      " 'ocean_proximity_<1H OCEAN' 'ocean_proximity_INLAND'\n",
      " 'ocean_proximity_ISLAND' 'ocean_proximity_NEAR BAY'\n",
      " 'ocean_proximity_NEAR OCEAN']\n"
     ]
    }
   ],
   "source": [
    "#################### \n",
    "# QUESTION create new linear regressor + Use SFS in forward mode\n",
    "# What are the selected features ? Print their names.\n",
    "#\n",
    "# sfs = ???\n",
    "# selected_features_sfs_forward = ???\n",
    "#################### \n",
    "\n",
    "sfs = SequentialFeatureSelector(LinearRegression(), n_features_to_select=\"auto\", direction='forward')\n",
    "\n",
    "selected_features_sfs_forward = sfs.fit(X_train, Y_train).feature_names_in_\n",
    "\n",
    "print(selected_features_sfs_forward)\n",
    "\n"
   ]
  },
  {
   "cell_type": "code",
   "execution_count": 70,
   "metadata": {},
   "outputs": [
    {
     "name": "stdout",
     "output_type": "stream",
     "text": [
      "RMSE with wrapper Forward\n",
      "0.5668287183076868\n"
     ]
    }
   ],
   "source": [
    "y_pred = fit_predict_with_features(X_train,Y_train, X_test, selected_features_sfs_forward)\n",
    "\n",
    "print('RMSE with wrapper Forward')\n",
    "print(compute_rmse(y_pred, Y_test.to_numpy()))"
   ]
  },
  {
   "cell_type": "markdown",
   "metadata": {},
   "source": [
    "### Backward"
   ]
  },
  {
   "cell_type": "code",
   "execution_count": 81,
   "metadata": {},
   "outputs": [
    {
     "name": "stdout",
     "output_type": "stream",
     "text": [
      "['longitude' 'latitude' 'housing_median_age' 'total_rooms'\n",
      " 'total_bedrooms' 'population' 'households' 'median_income'\n",
      " 'ocean_proximity_<1H OCEAN' 'ocean_proximity_INLAND'\n",
      " 'ocean_proximity_ISLAND' 'ocean_proximity_NEAR BAY'\n",
      " 'ocean_proximity_NEAR OCEAN']\n"
     ]
    }
   ],
   "source": [
    "# Backward\n",
    "####################\n",
    "# QUESTION create new linear regressor + Use SFS in backward mode\n",
    "# What are the selected features ? Print their names.\n",
    "#\n",
    "# sfs = ???\n",
    "# selected_features_sfs_backward = ???\n",
    "####################\n",
    "\n",
    "sfs = SequentialFeatureSelector(LinearRegression(), n_features_to_select=3, direction='backward')\n",
    "\n",
    "selected_features_sfs_backward = sfs.fit(X_train, Y_train).feature_names_in_\n",
    "\n",
    "print(selected_features_sfs_backward)"
   ]
  },
  {
   "cell_type": "code",
   "execution_count": 80,
   "metadata": {},
   "outputs": [
    {
     "name": "stdout",
     "output_type": "stream",
     "text": [
      "RMSE with wrapper Backward\n",
      "0.5668287183076868\n"
     ]
    }
   ],
   "source": [
    "y_pred = fit_predict_with_features(X_train,Y_train, X_test, selected_features_sfs_backward)\n",
    "\n",
    "print('RMSE with wrapper Backward')\n",
    "print(compute_rmse(y_pred, Y_test.to_numpy()))"
   ]
  },
  {
   "cell_type": "code",
   "execution_count": null,
   "metadata": {},
   "outputs": [],
   "source": []
  }
 ],
 "metadata": {
  "kernelspec": {
   "display_name": "Python 3.9.13 ('base')",
   "language": "python",
   "name": "python3"
  },
  "language_info": {
   "codemirror_mode": {
    "name": "ipython",
    "version": 3
   },
   "file_extension": ".py",
   "mimetype": "text/x-python",
   "name": "python",
   "nbconvert_exporter": "python",
   "pygments_lexer": "ipython3",
   "version": "3.9.13"
  },
  "vscode": {
   "interpreter": {
    "hash": "c6e4e9f98eb68ad3b7c296f83d20e6de614cb42e90992a65aa266555a3137d0d"
   }
  }
 },
 "nbformat": 4,
 "nbformat_minor": 2
}
