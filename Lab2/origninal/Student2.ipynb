{
 "cells": [
  {
   "cell_type": "markdown",
   "metadata": {},
   "source": [
    "# [LELEC2870] - Machine Learning\n",
    "\n",
    "## Practical Session 2 - Feature Selection\n",
    "\n",
    "Prof. M. Verleysen<br>\n",
    "Prof. J. Lee<br>\n",
    "\n",
    "**Teaching assistants :**  \n",
    "Edouard Couplet : edouard.couplet@uclouvain.be  <br>\n",
    "Cyril De Bodt: cyril.debodt@uclouvain.be<br>\n",
    "Dany Rimez: dany.rimez@uclouvain.be<br>\n",
    "Niels Sayez : niels.sayez@uclouvain.be <br> \n",
    "Antoine Vanderschueren : antoine.vanderschueren@uclouvain.be<br>"
   ]
  },
  {
   "cell_type": "markdown",
   "metadata": {},
   "source": [
    "Last session, you implemented linear regression between the target values and a few features of a dataset.\n",
    "\n",
    "This second session will focus on the behaviour one should adopt when confronted with a new dataset with a larger number of features. Indeed, preprocessing must be applied to the data received to ensure that machine learning models can be trained on this data with the available computational resources and that these models produce the best performance.\n",
    "\n",
    "You will first make sure that the data can be ingested by a linear regressor and the apply several feature selection methods you learned about during the lectures in order to train better and better models.\n",
    "\n",
    "We provide you a dataset for the topic covered in this session. This dataset can be found on the Moodle page of this course.\n",
    "\n",
    "<div class=\"alert alert-success\">\n",
    "    \n",
    "* **Load** the dataset from disk.\n",
    "\n",
    "</div>"
   ]
  },
  {
   "cell_type": "code",
   "execution_count": null,
   "metadata": {},
   "outputs": [],
   "source": [
    "import pandas as pd\n",
    "\n",
    "import matplotlib.pyplot as plt\n",
    "\n",
    "import numpy as np\n",
    "\n",
    "import matplotlib.pyplot as plt\n",
    "%matplotlib inline\n",
    "import seaborn as sns\n",
    "\n",
    "import sklearn\n",
    "from sklearn.linear_model import LinearRegression"
   ]
  },
  {
   "cell_type": "code",
   "execution_count": null,
   "metadata": {},
   "outputs": [],
   "source": [
    "## Load the dataset here in a pandas dataframe\n",
    "## Display the informations of the dataframe"
   ]
  },
  {
   "cell_type": "markdown",
   "metadata": {},
   "source": [
    "## 1.  Preprocessing / Feature Engineering\n",
    "\n",
    "\n",
    "<div class=\"alert alert-info\">\n",
    "\n",
    "When facing a new dataset, one must pay attention to several aspects regarding the following themes:\n",
    "\n",
    "* **Sanity of data**: Are all the values in the dataset in a format that can be interpreted by the model we want to train?\n",
    "    \n",
    "    \n",
    "* **Redundancy of data**: do all features bring new information of is there repetition between features?\n",
    "    \n",
    "    \n",
    "* **Relevance of data** : Does a feature bring information about the target?\n",
    "    \n",
    "    \n",
    "* **Balance of influences** : Will the orders of magnitude of the numerical values of the features influence the training of my models?\n",
    "    \n",
    "The initial data may contain flaws with respect to one or more of these themes. Careful inspection of the data is therefore necessary in order to ensure that the models that will be trained do not suffer from biases that can be avoided.\n",
    "\n",
    "    \n",
    "</div>  "
   ]
  },
  {
   "cell_type": "markdown",
   "metadata": {},
   "source": [
    "### 1.a Sanity Verification\n",
    "\n",
    "The first aspect to look at is the verification that models will be fed only with information it may exploit i.e. no data entry may interfere with proper computation.\n",
    "\n",
    "#### Missing Values\n",
    "It is quite common when facing a new dataset to notice missing values (NaN) that will prevent the\n",
    "proper training of the machine learning models. A common solution to this problem is simply to\n",
    "drop the data samples containing NaNs. Your first task in this session is to remove those entries\n",
    "from the dataset.\n",
    "\n",
    "<div class=\"alert alert-success\">\n",
    "    \n",
    "* **Remove** the samples of the dataset with missing information using pandas functions.\n",
    "\n",
    "</div>"
   ]
  },
  {
   "cell_type": "code",
   "execution_count": null,
   "metadata": {},
   "outputs": [],
   "source": []
  },
  {
   "cell_type": "markdown",
   "metadata": {},
   "source": [
    "#### Data Format\n",
    "\n",
    "Some features may be expressed in formats that can not be processed as they are (mainly categorical features) and therefore must be expressed differently to be ingested by a model. \n",
    "\n",
    "**Note:**      A **single** original feature may be replaced by **more than one** new features.\n",
    "\n",
    "<div class=\"alert alert-success\">\n",
    "    \n",
    "* **Identify** features requiring a new expression\n",
    "* **Replace** those features with equivalent ones able to be given as input to a model.\n",
    "    \n",
    "</div>"
   ]
  },
  {
   "cell_type": "code",
   "execution_count": null,
   "metadata": {},
   "outputs": [],
   "source": []
  },
  {
   "cell_type": "markdown",
   "metadata": {},
   "source": [
    "#### Outlier Removal\n",
    "\n",
    "Some of the samples in the dataset may contain values of features that are not representative of\n",
    "the general distribution of the other samples i.e. outliers. Remove those samples from the\n",
    "dataset.\n",
    "\n",
    "<div class=\"alert alert-success\">\n",
    "    \n",
    "* **Choose** a criterion would you use to find outliers. How would you use that criterion?\n",
    "* **Remove** the samples being outliers in the distributions of one or more features.\n",
    "* **Show** box plots of the distributions of each feature, before and after removing outliers.\n",
    "    \n",
    "* What other processing could you do instead of removing samples? **Discuss**.\n",
    "\n",
    "</div>"
   ]
  },
  {
   "cell_type": "code",
   "execution_count": null,
   "metadata": {},
   "outputs": [],
   "source": []
  },
  {
   "cell_type": "markdown",
   "metadata": {},
   "source": [
    "### 1.b Redundancy verification\n",
    "\n",
    "Observe the correlation matrix between features. Do you find redundant features ? Can you\n",
    "explain how such features affect a model such as a Linear regressor or a KNN regressor? In\n",
    "both case, Is it important to keep or drop redundant features?\n",
    "\n",
    "\n",
    "<div class=\"alert alert-info\">\n",
    "    \n",
    "**KNN regressor/classifier**\n",
    "    \n",
    "The principle of the KNN methods is compare the given input sample(s) to the training data stored in its 'memory'.\n",
    "\n",
    "For any input sample $\\mathbf{s}$, the distance between $\\mathbf{s}$ and any training sample in training dataset  $\\mathbf{X}$ is computed:\n",
    "    \n",
    "\\begin{equation}\n",
    "\\mathbf{D} = || \\mathbf{s} - \\mathbf{X}||\n",
    "\\end{equation}\n",
    "    \n",
    "Then, only the k samples with lowest distances in $\\mathbf{D}$ - therefore named 'neighbors' of input $\\mathbf{s}$ in $\\mathbf{X}$- are considered such that the output depends on whether KNN is used for classification or regression: \n",
    "    \n",
    "    \n",
    "\n",
    "* In KNN classification, the output is a class membership. Input $\\mathbf{s}$ is classified by a plurality vote of its neighbors, such that $\\mathbf{s}$ is assigned to the class most common among its k nearest neighbors. \n",
    "    \n",
    "    \n",
    "    \n",
    "    \n",
    "* In KNN regression, the output is the target value for $\\mathbf{s}$. This value is the average of the target values of the k nearest neighbors.\n",
    "    \n",
    "<img src=\"https://upload.wikimedia.org/wikipedia/commons/thumb/e/e7/KnnClassification.svg/1024px-KnnClassification.svg.png\" alt=\"Alternative text\" width=\"300\"/>\n",
    "\n",
    "\n",
    "</div>"
   ]
  },
  {
   "cell_type": "markdown",
   "metadata": {},
   "source": [
    "\n",
    "<div class=\"alert alert-success\">\n",
    "    \n",
    "**Look for redundant information in the dataset**\n",
    "    \n",
    "* **Plot** the correlation between features, using the 'heatmap' function from the **seaborn** module.\n",
    "* Can you tell which features are redundant ?\n",
    "\n",
    "</div>"
   ]
  },
  {
   "cell_type": "code",
   "execution_count": null,
   "metadata": {
    "scrolled": false
   },
   "outputs": [],
   "source": []
  },
  {
   "cell_type": "markdown",
   "metadata": {},
   "source": [
    "### 1.c Relevance verification \n",
    "Observe the correlation matrix between features and the target. Which features do you think are\n",
    "more likely to be selected when performing Feature Selection for a linear model? Do you think\n",
    "your answer will also hold for other regression models? Why?\n",
    "<div class=\"alert alert-success\">\n",
    "    \n",
    "**Find most relevant features**\n",
    "    \n",
    "* **Plot** the correlation between each feature and the target, using the 'heatmap' function from the **seaborn** module.\n",
    "* Can you tell which features are the most relevant for a **linear regression model** ?\n",
    "\n",
    "</div>"
   ]
  },
  {
   "cell_type": "code",
   "execution_count": null,
   "metadata": {},
   "outputs": [],
   "source": []
  },
  {
   "cell_type": "markdown",
   "metadata": {},
   "source": [
    "### 1.d Balance of Influences\n",
    "\n",
    "Observe the modified dataset once again: are all features of the same order of magnitude? Does\n",
    "this variation affect a linear regressor? And a KNN regressor? How would you solve this?\n",
    "\n",
    "<div class=\"alert alert-success\">\n",
    "    \n",
    "**Make sure features have equal impact on the regression models.**\n",
    "    \n",
    "* Can you identify which features may overwhelm others ?\n",
    "* **Scale** each feature to a common range of values.\n",
    "\n",
    "</div>"
   ]
  },
  {
   "cell_type": "code",
   "execution_count": null,
   "metadata": {},
   "outputs": [],
   "source": []
  },
  {
   "cell_type": "markdown",
   "metadata": {},
   "source": [
    "### 1.e Train-Test Split\n",
    "\n",
    "To test out the generalization of your linear regressor, a data separation step is necessary. You'll now split the dataset in two equal parts at random ({X_train, Y_train} and {X_test, Y_test}). This will allow you to build a model on the former and assess its performance on the latter.\n",
    "\n",
    "<div class=\"alert alert-success\">\n",
    "  \n",
    "* **Split** the dataset in training and test subsets.\n",
    "\n",
    "</div>"
   ]
  },
  {
   "cell_type": "code",
   "execution_count": null,
   "metadata": {},
   "outputs": [],
   "source": []
  },
  {
   "cell_type": "markdown",
   "metadata": {},
   "source": [
    "## 2. Feature Selection\n",
    "\n",
    "Keeping unnecessary feature while training a machine learning model has several disadvantages such as increase its comlexity, and decrease its generalization ability.\n",
    "\n",
    "Hence, feature selection is one of the important steps while building a machine learning model. the goal of this step is to find the best possible set of features for building a model with best possible accuracy and lowest bias.\n",
    "\n",
    "<div class=\"alert alert-success\">\n",
    "  \n",
    "* **Run** the following cells and observe the RMSE obtained after training on all features. \n",
    "    \n",
    "    We will try to improve the performances with feature selection.\n",
    "\n",
    "</div>"
   ]
  },
  {
   "cell_type": "code",
   "execution_count": null,
   "metadata": {},
   "outputs": [],
   "source": [
    "# Compute the Root Mean Square Error\n",
    "def compute_rmse(predict, target):\n",
    "    if len(target.shape) == 2:\n",
    "        target = target.squeeze()\n",
    "    if len(predict.shape) == 2:\n",
    "        predict = predict.squeeze()\n",
    "    diff = target - predict\n",
    "    if len(diff.shape) == 1:\n",
    "        diff = np.expand_dims(diff, axis=-1)\n",
    "    rmse = np.sqrt(diff.T@diff / diff.shape[0])\n",
    "    return float(rmse)"
   ]
  },
  {
   "cell_type": "code",
   "execution_count": null,
   "metadata": {},
   "outputs": [],
   "source": [
    "def fit_predict_with_features(X_train,Y_train, X_test, selected_features):\n",
    "    X_train_filtered = X_train[selected_features]\n",
    "    X_test_filtered = X_test[selected_features]\n",
    "    \n",
    "    linear_regression_m = LinearRegression()\n",
    "    linear_regression_m.fit(X_train_filtered,Y_train)\n",
    "    y_pred = linear_regression_m.predict(X_test_filtered)\n",
    "    \n",
    "    return y_pred\n"
   ]
  },
  {
   "cell_type": "code",
   "execution_count": null,
   "metadata": {},
   "outputs": [],
   "source": [
    "print('RMSE Without FS')\n",
    "Y_pred = fit_predict_with_features(X_train,Y_train, X_test, X_train.columns)\n",
    "print(compute_rmse(Y_pred, Y_test.to_numpy()))\n"
   ]
  },
  {
   "attachments": {
    "image.png": {
     "image/png": "[encoded data removed]"
    }
   },
   "cell_type": "markdown",
   "metadata": {},
   "source": [
    "## 2.1 Filtering\n",
    "\n",
    "A first common method for feature selection is filtering out the available features that are unnecessary/redundant:\n",
    "\n",
    "![image.png](attachment:image.png)\n",
    "\n",
    "This filtering can be based on several metrics or statistical tests such as **Correlation coefficient**, **Mutual information**, **Chi-square tests**...\n",
    "\n",
    "Today, we ask you to select relevant features using the filtering method. To do so, define a correlation threshold between\n",
    "the features and the target and filter out features with a correlation lower than this threshold.\n",
    "\n",
    "\n",
    "<div class=\"alert alert-success\">\n",
    "  \n",
    "**Feature selection by filtering**\n",
    "    \n",
    "* According to your thoughts from section 1.3, **select** a subset of features based on their correlation coefficient with the target.\n",
    "* Dou you get improved performances compared to unfiltered dataset?\n",
    "\n",
    "</div>"
   ]
  },
  {
   "cell_type": "code",
   "execution_count": null,
   "metadata": {},
   "outputs": [],
   "source": [
    "# keep only the features with high correlation\n",
    "\n",
    "#################### vvvvvvvv\n",
    "## QUESTION Define threshold and filter out the features with corr < thresh\n",
    "# create a variable named relevant_features containing a pandas series with the features to keep.\n",
    "#\n",
    "# relevant_features = ??????\n",
    "#################### ^^^^^\n",
    "\n",
    "rf = [k for k,v in relevant_features.items() if k != 'median_house_value']\n",
    "print(rf)"
   ]
  },
  {
   "cell_type": "code",
   "execution_count": null,
   "metadata": {},
   "outputs": [],
   "source": [
    "y_pred = fit_predict_with_features(X_train,Y_train, X_test, rf)\n",
    "\n",
    "print('RMSE after Filter')\n",
    "print(compute_rmse(y_pred, Y_test.to_numpy()))"
   ]
  },
  {
   "attachments": {
    "image.png": {
     "image/png": "[encoded data removed]"
    }
   },
   "cell_type": "markdown",
   "metadata": {},
   "source": [
    "## 2.2 Wrapper method\n",
    "\n",
    "Wrappers methods are iterative methods to select a subset of features to train a model such that addition and removal of features takes place according to conclusions made from prior training of the model. \n",
    "\n",
    "Stopping criteria for selecting the best subset are usually pre-defined e.g. when the performance of the model decreases or a specific number of features has been achieved. \n",
    "\n",
    "![image.png](attachment:image.png)\n",
    "\n",
    "The main advantage of wrapper methods over the filter methods is that they provide an optimal set of features for training the model, thus resulting in better accuracy than the filter methods but are computationally more expensive.\n",
    "\n",
    "\n",
    "<div class=\"alert alert-success\">\n",
    "  \n",
    "**Feature selection by Wrapping methods**\n",
    "    \n",
    "* Apply both **Forward** and **Backward** feature selection using functions classes from **sklearn.feature_selection**\n",
    "* **Compare** the performances with models trained on different feature subsets.\n",
    "    \n",
    "</div>\n",
    "\n",
    "### Forward"
   ]
  },
  {
   "cell_type": "code",
   "execution_count": null,
   "metadata": {},
   "outputs": [],
   "source": [
    "#################### \n",
    "# QUESTION create new linear regressor + Use SFS in forward mode\n",
    "# What are the selected features ? Print their names.\n",
    "#\n",
    "# sfs = ???\n",
    "# selected_features_sfs_forward = ???\n",
    "#################### "
   ]
  },
  {
   "cell_type": "code",
   "execution_count": null,
   "metadata": {},
   "outputs": [],
   "source": [
    "y_pred = fit_predict_with_features(X_train,Y_train, X_test, selected_features_sfs_forward)\n",
    "\n",
    "print('RMSE with wrapper Forward')\n",
    "print(compute_rmse(y_pred, Y_test.to_numpy()))"
   ]
  },
  {
   "cell_type": "markdown",
   "metadata": {},
   "source": [
    "### Backward"
   ]
  },
  {
   "cell_type": "code",
   "execution_count": null,
   "metadata": {},
   "outputs": [],
   "source": [
    "# Backward\n",
    "####################\n",
    "# QUESTION create new linear regressor + Use SFS in backward mode\n",
    "# What are the selected features ? Print their names.\n",
    "#\n",
    "# sfs = ???\n",
    "# selected_features_sfs_backward = ???\n",
    "####################"
   ]
  },
  {
   "cell_type": "code",
   "execution_count": null,
   "metadata": {},
   "outputs": [],
   "source": [
    "y_pred = fit_predict_with_features(X_train,Y_train, X_test, selected_features_sfs_backward)\n",
    "\n",
    "print('RMSE with wrapper Backward')\n",
    "print(compute_rmse(y_pred, Y_test.to_numpy()))"
   ]
  }
 ],
 "metadata": {
  "kernelspec": {
   "display_name": "Python 3 (ipykernel)",
   "language": "python",
   "name": "python3"
  },
  "language_info": {
   "codemirror_mode": {
    "name": "ipython",
    "version": 3
   },
   "file_extension": ".py",
   "mimetype": "text/x-python",
   "name": "python",
   "nbconvert_exporter": "python",
   "pygments_lexer": "ipython3",
   "version": "3.10.4"
  }
 },
 "nbformat": 4,
 "nbformat_minor": 2
}
